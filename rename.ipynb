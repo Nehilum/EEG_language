{
 "cells": [
  {
   "cell_type": "code",
   "execution_count": 2,
   "metadata": {},
   "outputs": [
    {
     "ename": "FileNotFoundError",
     "evalue": "[Errno 2] No such file or directory: 'gi.wav' -> 'A3_i_g.wav'",
     "output_type": "error",
     "traceback": [
      "\u001b[0;31m---------------------------------------------------------------------------\u001b[0m",
      "\u001b[0;31mFileNotFoundError\u001b[0m                         Traceback (most recent call last)",
      "Cell \u001b[0;32mIn[2], line 36\u001b[0m\n\u001b[1;32m     33\u001b[0m new_name \u001b[38;5;241m=\u001b[39m \u001b[38;5;124mf\u001b[39m\u001b[38;5;124m\"\u001b[39m\u001b[38;5;132;01m{\u001b[39;00mprefix\u001b[38;5;132;01m}\u001b[39;00m\u001b[38;5;124m_\u001b[39m\u001b[38;5;132;01m{\u001b[39;00mvowel\u001b[38;5;132;01m}\u001b[39;00m\u001b[38;5;124m_\u001b[39m\u001b[38;5;132;01m{\u001b[39;00mconsonant\u001b[38;5;132;01m}\u001b[39;00m\u001b[38;5;132;01m{\u001b[39;00mext\u001b[38;5;132;01m}\u001b[39;00m\u001b[38;5;124m\"\u001b[39m\n\u001b[1;32m     35\u001b[0m \u001b[38;5;66;03m# Rename the file\u001b[39;00m\n\u001b[0;32m---> 36\u001b[0m \u001b[43mos\u001b[49m\u001b[38;5;241;43m.\u001b[39;49m\u001b[43mrename\u001b[49m\u001b[43m(\u001b[49m\u001b[43mfilename\u001b[49m\u001b[43m,\u001b[49m\u001b[43m \u001b[49m\u001b[43mnew_name\u001b[49m\u001b[43m)\u001b[49m\n\u001b[1;32m     37\u001b[0m \u001b[38;5;28mprint\u001b[39m(\u001b[38;5;124mf\u001b[39m\u001b[38;5;124m\"\u001b[39m\u001b[38;5;124mRenamed \u001b[39m\u001b[38;5;124m'\u001b[39m\u001b[38;5;132;01m{\u001b[39;00mfilename\u001b[38;5;132;01m}\u001b[39;00m\u001b[38;5;124m'\u001b[39m\u001b[38;5;124m to \u001b[39m\u001b[38;5;124m'\u001b[39m\u001b[38;5;132;01m{\u001b[39;00mnew_name\u001b[38;5;132;01m}\u001b[39;00m\u001b[38;5;124m'\u001b[39m\u001b[38;5;124m\"\u001b[39m)\n",
      "\u001b[0;31mFileNotFoundError\u001b[0m: [Errno 2] No such file or directory: 'gi.wav' -> 'A3_i_g.wav'"
     ]
    }
   ],
   "source": [
    "import os\n",
    "\n",
    "# Mapping of consonants to their original prefixes (A1, B3, etc.)\n",
    "consonant_to_prefix = {\n",
    "    \"b\": \"A1\",\n",
    "    \"d\": \"A2\",\n",
    "    \"g\": \"A3\",\n",
    "    \"p\": \"B1\",\n",
    "    \"t\": \"B2\",\n",
    "    \"k\": \"B3\"\n",
    "}\n",
    "dir_path = './output'\n",
    "\n",
    "# Iterate over all files in the current directory\n",
    "for filename in os.listdir(dir_path):\n",
    "    if filename.endswith('.wav'):\n",
    "        # Split into base name and extension\n",
    "        base_name, ext = os.path.splitext(filename)\n",
    "        \n",
    "        # Check if the base name has exactly 2 characters (consonant + vowel)\n",
    "        if len(base_name) != 2:\n",
    "            print(f\"Skipping {filename} - unexpected format\")\n",
    "            continue\n",
    "        \n",
    "        consonant, vowel = base_name[0], base_name[1]\n",
    "        \n",
    "        # Look up the prefix based on the consonant\n",
    "        prefix = consonant_to_prefix.get(consonant)\n",
    "        if not prefix:\n",
    "            print(f\"Skipping {filename} - unknown consonant '{consonant}'\")\n",
    "            continue\n",
    "        \n",
    "        # Rebuild the original filename (e.g., A1_e_b.wav)\n",
    "        new_name = f\"{prefix}_{vowel}_{consonant}{ext}\"\n",
    "        \n",
    "        # Rename the file\n",
    "        os.rename(os.path.join(dir_path, filename), os.path.join(dir_path, new_name))\n",
    "        print(f\"Renamed '{filename}' to '{new_name}'\")"
   ]
  }
 ],
 "metadata": {
  "kernelspec": {
   "display_name": "audioenv",
   "language": "python",
   "name": "python3"
  },
  "language_info": {
   "codemirror_mode": {
    "name": "ipython",
    "version": 3
   },
   "file_extension": ".py",
   "mimetype": "text/x-python",
   "name": "python",
   "nbconvert_exporter": "python",
   "pygments_lexer": "ipython3",
   "version": "3.9.18"
  }
 },
 "nbformat": 4,
 "nbformat_minor": 2
}
