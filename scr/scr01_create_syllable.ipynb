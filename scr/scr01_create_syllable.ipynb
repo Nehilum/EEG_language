{
 "cells": [
  {
   "cell_type": "code",
   "execution_count": 1,
   "id": "8103549e-9b49-46b5-bdf4-ce829696cc6d",
   "metadata": {},
   "outputs": [
    {
     "name": "stdout",
     "output_type": "stream",
     "text": [
      "Requirement already satisfied: gTTS in c:\\users\\hyang\\anaconda3\\lib\\site-packages (2.5.4)\n",
      "Requirement already satisfied: requests<3,>=2.27 in c:\\users\\hyang\\anaconda3\\lib\\site-packages (from gTTS) (2.32.3)\n",
      "Requirement already satisfied: click<8.2,>=7.1 in c:\\users\\hyang\\anaconda3\\lib\\site-packages (from gTTS) (8.1.7)\n",
      "Requirement already satisfied: colorama in c:\\users\\hyang\\anaconda3\\lib\\site-packages (from click<8.2,>=7.1->gTTS) (0.4.6)\n",
      "Requirement already satisfied: charset-normalizer<4,>=2 in c:\\users\\hyang\\anaconda3\\lib\\site-packages (from requests<3,>=2.27->gTTS) (2.0.4)\n",
      "Requirement already satisfied: idna<4,>=2.5 in c:\\users\\hyang\\anaconda3\\lib\\site-packages (from requests<3,>=2.27->gTTS) (3.4)\n",
      "Requirement already satisfied: urllib3<3,>=1.21.1 in c:\\users\\hyang\\anaconda3\\lib\\site-packages (from requests<3,>=2.27->gTTS) (2.0.7)\n",
      "Requirement already satisfied: certifi>=2017.4.17 in c:\\users\\hyang\\anaconda3\\lib\\site-packages (from requests<3,>=2.27->gTTS) (2024.12.14)\n",
      "Note: you may need to restart the kernel to use updated packages.\n"
     ]
    }
   ],
   "source": [
    "pip install gTTS"
   ]
  },
  {
   "cell_type": "code",
   "execution_count": 1,
   "id": "4b57cdc5-f319-4450-a53d-2f25bc9910d9",
   "metadata": {},
   "outputs": [],
   "source": [
    "from pathlib import Path\n",
    "from gtts import gTTS"
   ]
  },
  {
   "cell_type": "code",
   "execution_count": 19,
   "id": "f77f49be-fe2e-44a3-8b07-12f21944aafa",
   "metadata": {},
   "outputs": [
    {
     "name": "stdout",
     "output_type": "stream",
     "text": [
      "Generated C:\\Users\\hyang\\Documents\\JupyterNotebook\\output_sounds\\tea.mp3\n"
     ]
    }
   ],
   "source": [
    "# List of sounds to generate\n",
    "# A class: be, bi, de, di, ge, gi\n",
    "# B class: po, pu, to, tu, ko, ku"
   ]
  },
  {
   "cell_type": "code",
   "execution_count": 15,
   "id": "d94c277a-3861-4484-8bab-536e23214ebe",
   "metadata": {},
   "outputs": [],
   "source": [
    "sounds = [\"be\", \"bi\", \"deh\", \"die\", \"ge\", \"gi\",\n",
    "          \"po\", \"pu\", \"to\", \"tu\", \"koh\", \"kuh\"]\n",
    "language = \"de\""
   ]
  },
  {
   "cell_type": "code",
   "execution_count": 11,
   "id": "46564b59-096a-4fe9-98d0-54962d79a92e",
   "metadata": {},
   "outputs": [],
   "source": [
    "# Deutsch: be, bi, bo, fo, ge, gi, mo, pu, wo\n",
    "# ? de, di, ku\n",
    "sounds = [\"deh\", \"kuh\", \"die\", \"koh\"]\n",
    "language = \"de\""
   ]
  },
  {
   "cell_type": "code",
   "execution_count": 19,
   "id": "34731693-d2a3-4c92-90e8-4827c3f8d60c",
   "metadata": {},
   "outputs": [
    {
     "name": "stdout",
     "output_type": "stream",
     "text": [
      "Generated C:\\Users\\hyang\\Documents\\JupyterNotebook\\Deutsch\\be.wav\n",
      "Generated C:\\Users\\hyang\\Documents\\JupyterNotebook\\Deutsch\\bi.wav\n",
      "Generated C:\\Users\\hyang\\Documents\\JupyterNotebook\\Deutsch\\deh.wav\n",
      "Generated C:\\Users\\hyang\\Documents\\JupyterNotebook\\Deutsch\\die.wav\n",
      "Generated C:\\Users\\hyang\\Documents\\JupyterNotebook\\Deutsch\\ge.wav\n",
      "Generated C:\\Users\\hyang\\Documents\\JupyterNotebook\\Deutsch\\gi.wav\n",
      "Generated C:\\Users\\hyang\\Documents\\JupyterNotebook\\Deutsch\\po.wav\n",
      "Generated C:\\Users\\hyang\\Documents\\JupyterNotebook\\Deutsch\\pu.wav\n",
      "Generated C:\\Users\\hyang\\Documents\\JupyterNotebook\\Deutsch\\to.wav\n",
      "Generated C:\\Users\\hyang\\Documents\\JupyterNotebook\\Deutsch\\tu.wav\n",
      "Generated C:\\Users\\hyang\\Documents\\JupyterNotebook\\Deutsch\\koh.wav\n",
      "Generated C:\\Users\\hyang\\Documents\\JupyterNotebook\\Deutsch\\kuh.wav\n"
     ]
    }
   ],
   "source": [
    "# Directory to save the generated files\n",
    "output_dir = Path.cwd() / 'Deutsch'\n",
    "output_dir.mkdir(exist_ok=True)\n",
    "for sound in sounds:\n",
    "    speech_file_path = output_dir / f\"{sound}.wav\"\n",
    "    tts = gTTS(sound,lang=language)\n",
    "    tts.save(speech_file_path)\n",
    "    print(f\"Generated {speech_file_path}\")"
   ]
  },
  {
   "cell_type": "code",
   "execution_count": null,
   "id": "f23fa94a-f63a-416d-8ebd-ef54234e87e5",
   "metadata": {},
   "outputs": [],
   "source": []
  }
 ],
 "metadata": {
  "kernelspec": {
   "display_name": "Python 3",
   "language": "python",
   "name": "python3"
  },
  "language_info": {
   "codemirror_mode": {
    "name": "ipython",
    "version": 3
   },
   "file_extension": ".py",
   "mimetype": "text/x-python",
   "name": "python",
   "nbconvert_exporter": "python",
   "pygments_lexer": "ipython3",
   "version": "3.11.7"
  }
 },
 "nbformat": 4,
 "nbformat_minor": 5
}
